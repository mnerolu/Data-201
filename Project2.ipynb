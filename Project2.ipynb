{
 "cells": [
  {
   "cell_type": "markdown",
   "metadata": {},
   "source": [
    "# Project 2 : Linear Regression using Scikitlearn "
   ]
  },
  {
   "cell_type": "markdown",
   "metadata": {},
   "source": [
    " **Meenakshi Nerolu**       $\\hspace{18cm}$    **November 17, 2019**"
   ]
  },
  {
   "cell_type": "markdown",
   "metadata": {},
   "source": [
    "# 1. Introduction\n",
    "\n",
    "## Linear Regression \n",
    "\n",
    "Linear regression is one of the most commonly used algorithms in machine learning. It is used to predict values based on an    independent variable. Different regression models differ based on – the kind of relationship between dependent and independent variables, they are considering and the number of independent variables being used.\n",
    "The linear regression model can be represented by the following equation\n",
    "\n",
    "  $ Y= \\theta_0 + \\theta_1 x_1 +\\theta_2 x_2 +... + \\theta_n x_n, $ where\n",
    "  \n",
    "* Y : predicted value/target,   \n",
    "* $\\theta_0$: bias term,\n",
    "* $\\theta_1,...,\\theta_n$: model parameters,\n",
    "* $x_1, x_2, ..., x_n$: feature values.\n",
    "\n",
    "Here \n",
    "* The dependent features are also called the dependent variables, outputs, or responses.\n",
    "\n",
    "* The independent features are also called the independent variables, inputs, or predictors.\n",
    "\n",
    "Regression problems usually have one continuous and unbounded dependent variable. The inputs, however, can be continuous, discrete, or even categorical data such as gender, nationality, brand, and so on.\n",
    "Regression problems usually have one continuous and unbounded dependent variable. The inputs, however, can be continuous, discrete, or even categorical data such as gender, nationality, brand, and so on.\n",
    "  \n",
    "## Implementing Linear Regression in Python\n",
    "\n",
    "To analyze linear regression model in python, we use Scikit-learn package. **Scikit-learn** is a free machine learning library for Python. It features various algorithms like support vector machine, random forests, and k-neighbours, and it also supports Python numerical and scientific libraries like *NumPy* and *SciPy*.\n",
    "\n",
    "#### Linear Regression With scikit-learn\n",
    "\n",
    "Basic steps when you’re implementing linear regression:\n",
    "\n",
    "* Gathering and Exploring the data\n",
    "* Data Preparation\n",
    "* Splitting the data\n",
    "* Initializing the Model and Parameters\n",
    "* Training and Testing the model\n",
    "\n",
    "Dataset *insurance.csv* is taken from www.kaggle.com\n",
    "\n",
    "The aim of the project is to predict the health insurance cost by linear regression."
   ]
  },
  {
   "cell_type": "markdown",
   "metadata": {},
   "source": [
    "# 2. Prepare and wrangle data with Pandas and Numpy"
   ]
  },
  {
   "cell_type": "markdown",
   "metadata": {},
   "source": [
    "## Importing all required libraries"
   ]
  },
  {
   "cell_type": "code",
   "execution_count": 1,
   "metadata": {},
   "outputs": [],
   "source": [
    "# Python Libraries and Packages\n",
    "import pandas as pd\n",
    "import numpy as np\n",
    "import scipy as sp\n",
    "import matplotlib.pyplot as plt\n",
    "import seaborn as sns\n",
    "%matplotlib inline\n",
    "import sklearn as sk\n",
    "import sklearn.metrics\n",
    "from sklearn.linear_model import LinearRegression\n",
    "from sklearn import linear_model\n",
    "from sklearn.model_selection import cross_val_score, KFold\n",
    "#Allows us access to Scikit-learn linear regression model,\n",
    "from sklearn import model_selection"
   ]
  },
  {
   "cell_type": "markdown",
   "metadata": {},
   "source": [
    "Here \n",
    "> *pandas* is a software library written for the Python programming language for data manipulation and analysis.\n",
    "\n",
    "> *numpy* is a library for the Python programming language, adding support for large, multi-dimensional arrays and matrices,     along with a large collection of high-level mathematical functions to operate on these arrays. \n",
    "\n",
    "> *scipy* is a free and open-source Python library used for scientific computing and technical computing. SciPy contains \n",
    "  modules for optimization, linear algebra, integration, interpolation, special functions, FFT, signal and image processing,  \n",
    "  ODE solvers and other tasks common in science and engineering.\n",
    "\n",
    "> *matplotlib* is a plotting library for the Python programming language. \n",
    "\n",
    "> *seaborn* is a Python data visualization library based on matplotlib. It provides a high-level interface for drawing  \n",
    "  attractive and informative statistical graphics.\n",
    "\n",
    "> *sklearn.linear_model* module which contains “methods intended for regression in which the target value is expected to be a \n",
    "  linear combination of the input variables”. \n",
    "\n",
    "> sklearn supports various built-in metrics, which can be found in the metrics section in the API. However, it is also possible   to define your own metric and use it to fit and evaluate your model."
   ]
  },
  {
   "cell_type": "markdown",
   "metadata": {},
   "source": [
    "### Reading csv file :"
   ]
  },
  {
   "cell_type": "code",
   "execution_count": 2,
   "metadata": {},
   "outputs": [],
   "source": [
    "#data frame from csv file \n",
    "insurance = pd.read_csv(\"insurance.csv\",index_col=None, na_values=['NA'],sep=',')"
   ]
  },
  {
   "cell_type": "code",
   "execution_count": 3,
   "metadata": {},
   "outputs": [
    {
     "data": {
      "text/plain": [
       "(1338, 7)"
      ]
     },
     "execution_count": 3,
     "metadata": {},
     "output_type": "execute_result"
    }
   ],
   "source": [
    "insurance.shape"
   ]
  },
  {
   "cell_type": "markdown",
   "metadata": {},
   "source": [
    "We see that there are 1338 rows and 7 columns in our dataset. The columns contain variables such as,\n",
    "* **age**\n",
    "    - Age of primary beneficiary.\n",
    "* **sex**\n",
    "    - Insurance contractor gender, female, male.\n",
    "* **bmi**\n",
    "    - Body mass index (a measure of body fat in adults), providing an understanding of body, weights that are relatively high or low relative to height,  \n",
    "      objective index of body weight (kg / m ^ 2) using the ratio of height to weight, ideally 18.5 to 24.9.\n",
    "* **children**  \n",
    "    - Number of children covered by health insurance / Number of dependents.\n",
    "* **smoker**\n",
    "    - Smoking\n",
    "* **region**\n",
    "    - The beneficiary's residential area in the US, northeast, southeast, southwest, northwest.\n",
    "* **charges**\n",
    "    - Individual medical costs billed by health insurance."
   ]
  },
  {
   "cell_type": "code",
   "execution_count": 4,
   "metadata": {},
   "outputs": [
    {
     "data": {
      "text/plain": [
       "(1338, 7)"
      ]
     },
     "execution_count": 4,
     "metadata": {},
     "output_type": "execute_result"
    }
   ],
   "source": [
    "# Making new data frame with dropped NA values\n",
    "insurance_new=insurance.dropna()\n",
    "# dimension of the new dataframe\n",
    "insurance_new.shape"
   ]
  },
  {
   "cell_type": "code",
   "execution_count": 5,
   "metadata": {},
   "outputs": [
    {
     "data": {
      "text/plain": [
       "age           int64\n",
       "sex          object\n",
       "bmi         float64\n",
       "children      int64\n",
       "smoker       object\n",
       "region       object\n",
       "charges       int32\n",
       "dtype: object"
      ]
     },
     "execution_count": 5,
     "metadata": {},
     "output_type": "execute_result"
    }
   ],
   "source": [
    "insurance.charges =  insurance.charges.astype(int)\n",
    "insurance.dtypes"
   ]
  },
  {
   "cell_type": "code",
   "execution_count": 6,
   "metadata": {},
   "outputs": [
    {
     "data": {
      "text/html": [
       "<div>\n",
       "<style scoped>\n",
       "    .dataframe tbody tr th:only-of-type {\n",
       "        vertical-align: middle;\n",
       "    }\n",
       "\n",
       "    .dataframe tbody tr th {\n",
       "        vertical-align: top;\n",
       "    }\n",
       "\n",
       "    .dataframe thead th {\n",
       "        text-align: right;\n",
       "    }\n",
       "</style>\n",
       "<table border=\"1\" class=\"dataframe\">\n",
       "  <thead>\n",
       "    <tr style=\"text-align: right;\">\n",
       "      <th></th>\n",
       "      <th>age</th>\n",
       "      <th>sex</th>\n",
       "      <th>bmi</th>\n",
       "      <th>children</th>\n",
       "      <th>smoker</th>\n",
       "      <th>region</th>\n",
       "      <th>charges</th>\n",
       "    </tr>\n",
       "  </thead>\n",
       "  <tbody>\n",
       "    <tr>\n",
       "      <th>0</th>\n",
       "      <td>19</td>\n",
       "      <td>female</td>\n",
       "      <td>27.90</td>\n",
       "      <td>0</td>\n",
       "      <td>yes</td>\n",
       "      <td>southwest</td>\n",
       "      <td>16884</td>\n",
       "    </tr>\n",
       "    <tr>\n",
       "      <th>1</th>\n",
       "      <td>18</td>\n",
       "      <td>male</td>\n",
       "      <td>33.77</td>\n",
       "      <td>1</td>\n",
       "      <td>no</td>\n",
       "      <td>southeast</td>\n",
       "      <td>1725</td>\n",
       "    </tr>\n",
       "    <tr>\n",
       "      <th>2</th>\n",
       "      <td>28</td>\n",
       "      <td>male</td>\n",
       "      <td>33.00</td>\n",
       "      <td>3</td>\n",
       "      <td>no</td>\n",
       "      <td>southeast</td>\n",
       "      <td>4449</td>\n",
       "    </tr>\n",
       "  </tbody>\n",
       "</table>\n",
       "</div>"
      ],
      "text/plain": [
       "   age     sex    bmi  children smoker     region  charges\n",
       "0   19  female  27.90         0    yes  southwest    16884\n",
       "1   18    male  33.77         1     no  southeast     1725\n",
       "2   28    male  33.00         3     no  southeast     4449"
      ]
     },
     "execution_count": 6,
     "metadata": {},
     "output_type": "execute_result"
    }
   ],
   "source": [
    "insurance.head(3)"
   ]
  },
  {
   "cell_type": "markdown",
   "metadata": {},
   "source": [
    "**When implementing linear regression in a machine learning system, the variables must be continuous in nature, not categorical. In the following codes, I am going to convert some of the columns to continous variables.**"
   ]
  },
  {
   "cell_type": "code",
   "execution_count": 7,
   "metadata": {},
   "outputs": [],
   "source": [
    "def map_smoking(column):\n",
    "    mapped=[]\n",
    "    \n",
    "    for row in column:\n",
    "        \n",
    "        if row==\"yes\":\n",
    "            mapped.append(1)\n",
    "        else:\n",
    "            mapped.append(0)\n",
    "        \n",
    "        \n",
    "    return mapped\n",
    "insurance[\"smoker_norm\"]=map_smoking(insurance[\"smoker\"])"
   ]
  },
  {
   "cell_type": "markdown",
   "metadata": {},
   "source": [
    "##### Above code define a function to distinguish smokers and non-smokers."
   ]
  },
  {
   "cell_type": "markdown",
   "metadata": {},
   "source": [
    "##### Similarly the following code createes a new feature that distinguishes obese and non-obese individuals."
   ]
  },
  {
   "cell_type": "code",
   "execution_count": 8,
   "metadata": {},
   "outputs": [],
   "source": [
    "def map_obese(column):\n",
    "    mapped=[]\n",
    "    for row in column:\n",
    "        if row>30:\n",
    "            mapped.append(1)\n",
    "        else:\n",
    "            mapped.append(0)\n",
    "    return mapped\n",
    "insurance[\"obese\"]=map_obese(insurance[\"bmi\"])"
   ]
  },
  {
   "cell_type": "code",
   "execution_count": 9,
   "metadata": {},
   "outputs": [
    {
     "name": "stderr",
     "output_type": "stream",
     "text": [
      "C:\\ProgramData\\Anaconda3\\lib\\site-packages\\ipykernel_launcher.py:2: SettingWithCopyWarning: \n",
      "A value is trying to be set on a copy of a slice from a DataFrame\n",
      "\n",
      "See the caveats in the documentation: http://pandas.pydata.org/pandas-docs/stable/indexing.html#indexing-view-versus-copy\n",
      "  \n",
      "C:\\ProgramData\\Anaconda3\\lib\\site-packages\\ipykernel_launcher.py:3: SettingWithCopyWarning: \n",
      "A value is trying to be set on a copy of a slice from a DataFrame\n",
      "\n",
      "See the caveats in the documentation: http://pandas.pydata.org/pandas-docs/stable/indexing.html#indexing-view-versus-copy\n",
      "  This is separate from the ipykernel package so we can avoid doing imports until\n"
     ]
    }
   ],
   "source": [
    "#traversing through Gender column of dataFrame and writing values where condition matches. \n",
    "insurance.sex[insurance.sex == 'male'] = 0\n",
    "insurance.sex[insurance.sex == 'female'] = 1\n",
    "insurance_dummy = pd.get_dummies(insurance, columns=['region'])"
   ]
  },
  {
   "cell_type": "code",
   "execution_count": 10,
   "metadata": {},
   "outputs": [
    {
     "name": "stdout",
     "output_type": "stream",
     "text": [
      "   age sex    bmi  children smoker     region  charges  smoker_norm  obese\n",
      "0   19   1  27.90         0    yes  southwest    16884            1      0\n",
      "1   18   0  33.77         1     no  southeast     1725            0      1\n",
      "2   28   0  33.00         3     no  southeast     4449            0      1\n"
     ]
    }
   ],
   "source": [
    "print(insurance.head(3))"
   ]
  },
  {
   "cell_type": "code",
   "execution_count": 11,
   "metadata": {},
   "outputs": [
    {
     "name": "stdout",
     "output_type": "stream",
     "text": [
      "   age sex    bmi  children smoker  charges  smoker_norm  obese  \\\n",
      "0   19   1  27.90         0    yes    16884            1      0   \n",
      "1   18   0  33.77         1     no     1725            0      1   \n",
      "2   28   0  33.00         3     no     4449            0      1   \n",
      "\n",
      "   region_northeast  region_northwest  region_southeast  region_southwest  \n",
      "0                 0                 0                 0                 1  \n",
      "1                 0                 0                 1                 0  \n",
      "2                 0                 0                 1                 0  \n"
     ]
    }
   ],
   "source": [
    "print(insurance_dummy.head(3))"
   ]
  },
  {
   "cell_type": "markdown",
   "metadata": {},
   "source": [
    "# 3. EDA principles and the Matplotlib / Seaborn packages to visualize the data"
   ]
  },
  {
   "cell_type": "code",
   "execution_count": 12,
   "metadata": {},
   "outputs": [
    {
     "data": {
      "image/png": "[encoded data removed]",
      "text/plain": [
       "<Figure size 216x1800 with 6 Axes>"
      ]
     },
     "metadata": {
      "needs_background": "light"
     },
     "output_type": "display_data"
    }
   ],
   "source": [
    "colnum=len(insurance.columns)-3\n",
    "fig,ax=plt.subplots(colnum,1,figsize=(3,25))\n",
    "ax[0].set_ylabel(\"charges\")\n",
    "p_vals={}\n",
    "for ind,col in enumerate([i for i in insurance.columns if i not in [\"smoker\",\"region\",\"charges\"]]):\n",
    "    \n",
    "    ax[ind].scatter(insurance[col],insurance.charges,s=5)\n",
    "    ax[ind].set_xlabel(col)\n",
    "    ax[ind].set_ylabel(\"charges\")  \n",
    "plt.tight_layout()\n",
    "plt.show()"
   ]
  },
  {
   "cell_type": "markdown",
   "metadata": {},
   "source": [
    "# 4. scikit-learn linear regression to train, test and predict a numerical target variable"
   ]
  },
  {
   "cell_type": "code",
   "execution_count": 13,
   "metadata": {},
   "outputs": [
    {
     "name": "stdout",
     "output_type": "stream",
     "text": [
      "age :  0.29900868772784867\n",
      "bmi :  0.1983415616200252\n",
      "children :  0.06799912084967571\n",
      "charges :  1.0\n",
      "smoker_norm :  0.7872508167061558\n",
      "obese :  0.19968402503416668\n"
     ]
    },
    {
     "data": {
      "text/plain": [
       "Text(0, 0.5, 'Absolute correlation')"
      ]
     },
     "execution_count": 13,
     "metadata": {},
     "output_type": "execute_result"
    },
    {
     "data": {
      "image/png": "[encoded data removed]",
      "text/plain": [
       "<Figure size 432x288 with 1 Axes>"
      ]
     },
     "metadata": {
      "needs_background": "light"
     },
     "output_type": "display_data"
    }
   ],
   "source": [
    "nonnum_cols=[col for col in insurance.select_dtypes(include=[\"object\"])]\n",
    "corr_vals=[]\n",
    "collabel=[]\n",
    "for col in [i for i in insurance.columns if i not in nonnum_cols]:\n",
    "    \n",
    "    p_val=sp.stats.pearsonr(insurance[col],insurance[\"charges\"])\n",
    "    corr_vals.append(np.abs(p_val[0]))\n",
    "    print(col,\": \",np.abs(p_val[0]))\n",
    "    collabel.append(col)\n",
    "plt.bar(range(1,len(corr_vals)+1),corr_vals)\n",
    "plt.xticks(range(1,len(corr_vals)+1),collabel,rotation=45)\n",
    "plt.ylabel(\"Absolute correlation\")"
   ]
  },
  {
   "cell_type": "markdown",
   "metadata": {},
   "source": [
    "**Smoking, age and obesity are the factors that contribute the most in the calculation of insurance costs. We will only use those features for our predictions.**\n",
    "\n",
    "**I am going to define a new data frame *new_insurance* which contains age, charges, smoker_norms and obese.**"
   ]
  },
  {
   "cell_type": "code",
   "execution_count": 14,
   "metadata": {},
   "outputs": [
    {
     "name": "stdout",
     "output_type": "stream",
     "text": [
      "The current number of rows and columns is:\n",
      "\n",
      "(1338, 5)\n",
      "<class 'pandas.core.frame.DataFrame'>\n",
      "RangeIndex: 1338 entries, 0 to 1337\n",
      "Data columns (total 5 columns):\n",
      "charges        1338 non-null int32\n",
      "age            1338 non-null int64\n",
      "children       1338 non-null int64\n",
      "smoker_norm    1338 non-null int64\n",
      "obese          1338 non-null int64\n",
      "dtypes: int32(1), int64(4)\n",
      "memory usage: 47.1 KB\n",
      "None\n"
     ]
    }
   ],
   "source": [
    "#insurance[insurance.columns]\n",
    "\n",
    "#list of column names to keep\n",
    "col_names=['charges','age','children', 'smoker_norm','obese']\n",
    "\n",
    "#creating new filtered dataframe\n",
    "new_insurance = insurance[col_names]\n",
    "\n",
    "#print the new shape of the data,\n",
    "print('The current number of rows and columns is:\\n')\n",
    "print(new_insurance.shape)\n",
    "\n",
    "#checking summary statistics and info of new dataframe\n",
    "print(new_insurance.info())"
   ]
  },
  {
   "cell_type": "markdown",
   "metadata": {},
   "source": [
    "We will make our predictions using Linear Regression, for which we will model the relationship between the three variables and insurance costs by fitting a linear equation to observed data.\n",
    "We will assume that the model for multiple linear regression, given $n=3$ observations, is :\n",
    "$y = ax_1 + bx_2 + cx_3 + i$\n",
    "where:\n",
    "* $y$ is the health insurance cost\n",
    "* $a$ is the age penalty\n",
    "* $b$ is the obesity penalty\n",
    "* $c$ is the penalty to smokers\n",
    "* $i$ is the intercept of the equation"
   ]
  },
  {
   "cell_type": "code",
   "execution_count": 15,
   "metadata": {},
   "outputs": [
    {
     "data": {
      "image/png": "[encoded data removed]",
      "text/plain": [
       "<Figure size 432x360 with 2 Axes>"
      ]
     },
     "metadata": {
      "needs_background": "light"
     },
     "output_type": "display_data"
    }
   ],
   "source": [
    "#filtering the dataframe to include features and another with target\n",
    "features = new_insurance.loc[:,new_insurance.columns != 'charges']\n",
    "targets = new_insurance.loc[:,new_insurance.columns == 'charges']\n",
    "\n",
    "#creating pairwise correlation of columns using Pearson's R,\n",
    "corr = features.corr(method='pearson') \n",
    "\n",
    "#plotting the correlation coefficients on a seasborn heatmap matrix\n",
    "fig, ax = plt.subplots(figsize=(6,5))\n",
    "sns.heatmap(corr, annot=True, xticklabels=corr.columns, \n",
    "            yticklabels=corr.columns, ax=ax, linewidths=.5, \n",
    "            vmin = -1, vmax=1, center=0)\n",
    "\n",
    "plt.title('Correlation HeatMap')\n",
    "plt.show()"
   ]
  },
  {
   "cell_type": "markdown",
   "metadata": {},
   "source": [
    "There are not many Multicollinearity issues in the variables chosen (the value of 1’s on the diagonal axis are self-correlation). There is a case to remove this variable, but we will keep it in the model for now."
   ]
  },
  {
   "cell_type": "markdown",
   "metadata": {},
   "source": [
    "### Splitting the data\n",
    "\n",
    "We should be preparing the data for our regression model by splitting our data into two distinct sets of data —  one for Training and another for Testing. We will be using the function *train_test_split* from Pythons Scikit-learn library to split our data randomly. We usually split the data around 20%-80% between testing and training stages."
   ]
  },
  {
   "cell_type": "code",
   "execution_count": 16,
   "metadata": {},
   "outputs": [
    {
     "name": "stdout",
     "output_type": "stream",
     "text": [
      "Our training prediction variable contains : 1070 rows\n",
      "Our training independent variable contains : 1070 rows\n",
      "Our testing prediction variable contains : 268 rows\n",
      "Our testing independent variable contains : 268 rows\n"
     ]
    }
   ],
   "source": [
    "#importing our function for splitting the data and an additional cross validation function,\n",
    "from sklearn.model_selection import train_test_split, cross_val_score\n",
    "\n",
    "#splitting our dataset randomly with the test data containing 10% of the data,\n",
    "X_train, X_test, y_train, y_test = train_test_split(features,targets, \n",
    "                                                    test_size=0.2, random_state=9)\n",
    "\n",
    "#view number of training and testing data\n",
    "print('Our training prediction variable contains :',len(y_train) ,'rows')\n",
    "print('Our training independent variable contains :',len(X_train) ,'rows')\n",
    "print('Our testing prediction variable contains :',len(y_test) ,'rows')\n",
    "print('Our testing independent variable contains :',len(X_test) ,'rows')"
   ]
  },
  {
   "cell_type": "code",
   "execution_count": 17,
   "metadata": {},
   "outputs": [
    {
     "name": "stdout",
     "output_type": "stream",
     "text": [
      "Shape of X: (1338, 4)\n",
      "Shape of y: (1338, 1)\n",
      "Shape of X_train: (1070, 4)\n",
      "Shape of y_train: (1070, 1)\n",
      "Shape of X_test: (268, 4)\n",
      "Shape of y_test: (268, 1)\n"
     ]
    }
   ],
   "source": [
    "print ('Shape of X:', features.shape)\n",
    "print ('Shape of y:', targets.shape)\n",
    "print ('Shape of X_train:', X_train.shape)\n",
    "print ('Shape of y_train:', y_train.shape)\n",
    "print ('Shape of X_test:', X_test.shape)\n",
    "print ('Shape of y_test:', y_test.shape)"
   ]
  },
  {
   "cell_type": "markdown",
   "metadata": {},
   "source": [
    "The line *test_size=0.2* suggests that the test data should be 20% of the dataset and the rest should be train data. With the outputs of the * shape() functions, you can see that we have 268 rows in the test data and 1070 in the training data."
   ]
  },
  {
   "cell_type": "markdown",
   "metadata": {},
   "source": [
    "### Interpret the meaning of the score :"
   ]
  },
  {
   "cell_type": "markdown",
   "metadata": {},
   "source": [
    "Our chosen model ‘Multiple Linear Regression’ does not require any model parameter input. We can initialize it using Scikit-learn with Python. We will fit our training data to the model, which would run the regression algorithm towards the data and provides us with the coefficient values for each independent variable plus an intercept value."
   ]
  },
  {
   "cell_type": "code",
   "execution_count": 18,
   "metadata": {},
   "outputs": [
    {
     "name": "stdout",
     "output_type": "stream",
     "text": [
      "Intercept : -4330.261135484074 \n",
      "\n",
      "      features   coeficients\n",
      "0          age    258.224833\n",
      "1     children    447.999038\n",
      "2  smoker_norm  23606.993591\n",
      "3        obese   4096.675190\n"
     ]
    }
   ],
   "source": [
    "reg_model = LinearRegression()\n",
    "#fitting the training data to the model,\n",
    "reg_model.fit(X_train, y_train)\n",
    "\n",
    "#outputs the coefficients\n",
    "print('Intercept :', reg_model.intercept_[0], '\\n')\n",
    "print(pd.DataFrame({'features':X_train.columns,'coeficients':reg_model.coef_[0]}))"
   ]
  },
  {
   "cell_type": "markdown",
   "metadata": {},
   "source": [
    "From the output above we can approximate our prediction function as such,\n",
    "\n",
    "$charges = -4330.261 + (258.225 * age) + (447.999 * children) + (23606.994 * smoker\\_norm) + (4096.675* obese )$"
   ]
  },
  {
   "cell_type": "markdown",
   "metadata": {},
   "source": [
    "We compute a ‘score’ for the model (there are multiple metric for evaluating our model) using Mean Squared Error (MSE)"
   ]
  },
  {
   "cell_type": "markdown",
   "metadata": {},
   "source": [
    "### Model Evaluation\n",
    "\n",
    "There are three primary metrics used to evaluate linear models. These are: Mean absolute error (MAE), Mean squared error (MSE), or Root mean squared error (RMSE)."
   ]
  },
  {
   "cell_type": "markdown",
   "metadata": {},
   "source": [
    "#### MSE using scikit – learn:"
   ]
  },
  {
   "cell_type": "code",
   "execution_count": 19,
   "metadata": {},
   "outputs": [
    {
     "name": "stdout",
     "output_type": "stream",
     "text": [
      "Mean Squared Error of Testing Set:  31244835.750654668\n",
      "Mean Squared Error of Training Set:  37305700.18805298\n"
     ]
    }
   ],
   "source": [
    "#for calculating MSE\n",
    "from sklearn.metrics import mean_squared_error\n",
    "from sklearn.metrics import mean_absolute_error\n",
    "\n",
    "y_pred_test = reg_model.predict(X_test)\n",
    "y_pred_train = reg_model.predict(X_train)\n",
    "\n",
    "mse_test = mean_squared_error(y_test, y_pred_test)\n",
    "mse_train =mean_squared_error(y_train, y_pred_train)\n",
    "\n",
    "print(\"Mean Squared Error of Testing Set: \", mse_test)\n",
    "print(\"Mean Squared Error of Training Set: \", mse_train)"
   ]
  },
  {
   "cell_type": "markdown",
   "metadata": {},
   "source": [
    "#### MSE using numpy:"
   ]
  },
  {
   "cell_type": "code",
   "execution_count": 20,
   "metadata": {},
   "outputs": [
    {
     "name": "stdout",
     "output_type": "stream",
     "text": [
      "MSE : charges    3.124484e+07\n",
      "dtype: float64\n"
     ]
    }
   ],
   "source": [
    "# Mean Squared Error \n",
    "y_pred = reg_model.predict(X_test)\n",
    "MSE = np.square(np.subtract(y_test,y_pred)).mean() \n",
    "print(\"MSE :\", MSE)"
   ]
  },
  {
   "cell_type": "code",
   "execution_count": 21,
   "metadata": {},
   "outputs": [
    {
     "name": "stdout",
     "output_type": "stream",
     "text": [
      "MAE : 3912.3610980742374\n",
      "MSE : 31244835.750654668\n",
      "RMSE: 5589.70802016122\n"
     ]
    }
   ],
   "source": [
    "# calculate MAE, MSE, RMSE\n",
    "from sklearn import metrics\n",
    "print(\"MAE :\", metrics.mean_absolute_error(y_test, y_pred))\n",
    "print(\"MSE :\", metrics.mean_squared_error(y_test, y_pred))\n",
    "print(\"RMSE:\", np.sqrt(metrics.mean_squared_error(y_test, y_pred)))"
   ]
  },
  {
   "cell_type": "markdown",
   "metadata": {},
   "source": [
    "# 5. Histogram of the residuals and checking if they have a Gaussian distribution "
   ]
  },
  {
   "cell_type": "markdown",
   "metadata": {},
   "source": [
    "Viewing a plot of the residual errors is an important step in evaluating regression models. This is a graph which plots each positive and negative residual error which are the outcome of actual values minus the predicted values."
   ]
  },
  {
   "cell_type": "code",
   "execution_count": 22,
   "metadata": {},
   "outputs": [
    {
     "data": {
      "image/png": "[encoded data removed]",
      "text/plain": [
       "<Figure size 1296x360 with 2 Axes>"
      ]
     },
     "metadata": {
      "needs_background": "light"
     },
     "output_type": "display_data"
    }
   ],
   "source": [
    "import scipy.stats as stats\n",
    "#calculate the residuals\n",
    "#y_pred = pd.DataFrame(y_pred)\n",
    "y_pred = reg_model.predict(X_test)\n",
    "y_test = y_test.reset_index(drop=True)\n",
    "residuals = y_test.charges - y_pred[0]\n",
    "\n",
    "#plotting Residual and Probabililty graph\n",
    "plt.figure(figsize=(18, 5))\n",
    "plt.subplot(1,2,1)\n",
    "plt.axhline(0, color=\"blue\")\n",
    "plt.title('Plot of Residuals')\n",
    "plt.scatter(residuals.index,residuals, s=20)\n",
    "plt.subplot(1,2,2)\n",
    "plt.title('Probability Plot')\n",
    "stats.probplot(residuals, dist='norm',plot=plt)\n",
    "plt.show()"
   ]
  },
  {
   "cell_type": "markdown",
   "metadata": {},
   "source": [
    "The Plot of Residuals reveal that our error values are distributed across the expected mean of zero. However there are a couple of distinct outliers present. This indicates that the residuals are not exactly ‘normal’.\n",
    "\n",
    "The probability plot also indicates that the residuals are not exactly ‘normal’.  The good fit indicates that normality is a reasonable approximation. The slight downward shape of the curve implies a right-skewed distribution and the outliers are very evident."
   ]
  },
  {
   "cell_type": "markdown",
   "metadata": {},
   "source": [
    "It could be that the outliers are affecting our model’s accuracy and dealing with them could bring us better results."
   ]
  },
  {
   "cell_type": "code",
   "execution_count": 23,
   "metadata": {},
   "outputs": [
    {
     "data": {
      "text/plain": [
       "([array([0., 0., 0., 0., 0., 1., 0., 0., 0., 0.]),\n",
       "  array([0., 0., 1., 0., 0., 0., 0., 0., 0., 0.]),\n",
       "  array([0., 0., 0., 1., 0., 0., 0., 0., 0., 0.]),\n",
       "  array([0., 0., 0., 1., 0., 0., 0., 0., 0., 0.]),\n",
       "  array([0., 0., 0., 1., 0., 0., 0., 0., 0., 0.]),\n",
       "  array([0., 0., 1., 0., 0., 0., 0., 0., 0., 0.]),\n",
       "  array([0., 0., 0., 0., 0., 0., 0., 0., 0., 1.]),\n",
       "  array([0., 0., 0., 1., 0., 0., 0., 0., 0., 0.]),\n",
       "  array([0., 1., 0., 0., 0., 0., 0., 0., 0., 0.]),\n",
       "  array([0., 0., 0., 1., 0., 0., 0., 0., 0., 0.]),\n",
       "  array([0., 0., 0., 0., 0., 0., 0., 0., 1., 0.]),\n",
       "  array([1., 0., 0., 0., 0., 0., 0., 0., 0., 0.]),\n",
       "  array([0., 0., 0., 1., 0., 0., 0., 0., 0., 0.]),\n",
       "  array([1., 0., 0., 0., 0., 0., 0., 0., 0., 0.]),\n",
       "  array([0., 0., 0., 0., 1., 0., 0., 0., 0., 0.]),\n",
       "  array([0., 0., 0., 1., 0., 0., 0., 0., 0., 0.]),\n",
       "  array([0., 0., 0., 1., 0., 0., 0., 0., 0., 0.]),\n",
       "  array([0., 0., 0., 1., 0., 0., 0., 0., 0., 0.]),\n",
       "  array([0., 0., 1., 0., 0., 0., 0., 0., 0., 0.]),\n",
       "  array([0., 1., 0., 0., 0., 0., 0., 0., 0., 0.]),\n",
       "  array([0., 0., 0., 1., 0., 0., 0., 0., 0., 0.]),\n",
       "  array([0., 0., 1., 0., 0., 0., 0., 0., 0., 0.]),\n",
       "  array([0., 0., 0., 1., 0., 0., 0., 0., 0., 0.]),\n",
       "  array([0., 0., 0., 0., 0., 1., 0., 0., 0., 0.]),\n",
       "  array([0., 0., 1., 0., 0., 0., 0., 0., 0., 0.]),\n",
       "  array([0., 0., 1., 0., 0., 0., 0., 0., 0., 0.]),\n",
       "  array([0., 0., 0., 1., 0., 0., 0., 0., 0., 0.]),\n",
       "  array([0., 0., 0., 1., 0., 0., 0., 0., 0., 0.]),\n",
       "  array([0., 0., 0., 0., 0., 0., 0., 1., 0., 0.]),\n",
       "  array([0., 0., 0., 0., 1., 0., 0., 0., 0., 0.]),\n",
       "  array([0., 0., 0., 1., 0., 0., 0., 0., 0., 0.]),\n",
       "  array([0., 1., 0., 0., 0., 0., 0., 0., 0., 0.]),\n",
       "  array([0., 0., 0., 1., 0., 0., 0., 0., 0., 0.]),\n",
       "  array([0., 0., 0., 1., 0., 0., 0., 0., 0., 0.]),\n",
       "  array([0., 0., 0., 0., 1., 0., 0., 0., 0., 0.]),\n",
       "  array([0., 0., 1., 0., 0., 0., 0., 0., 0., 0.]),\n",
       "  array([0., 0., 0., 0., 1., 0., 0., 0., 0., 0.]),\n",
       "  array([0., 0., 1., 0., 0., 0., 0., 0., 0., 0.]),\n",
       "  array([0., 0., 0., 1., 0., 0., 0., 0., 0., 0.]),\n",
       "  array([0., 1., 0., 0., 0., 0., 0., 0., 0., 0.]),\n",
       "  array([0., 1., 0., 0., 0., 0., 0., 0., 0., 0.]),\n",
       "  array([0., 0., 0., 1., 0., 0., 0., 0., 0., 0.]),\n",
       "  array([0., 0., 1., 0., 0., 0., 0., 0., 0., 0.]),\n",
       "  array([0., 1., 0., 0., 0., 0., 0., 0., 0., 0.]),\n",
       "  array([0., 1., 0., 0., 0., 0., 0., 0., 0., 0.]),\n",
       "  array([0., 1., 0., 0., 0., 0., 0., 0., 0., 0.]),\n",
       "  array([0., 0., 0., 0., 0., 0., 0., 0., 1., 0.]),\n",
       "  array([0., 0., 0., 1., 0., 0., 0., 0., 0., 0.]),\n",
       "  array([0., 0., 0., 0., 0., 1., 0., 0., 0., 0.]),\n",
       "  array([0., 0., 1., 0., 0., 0., 0., 0., 0., 0.]),\n",
       "  array([0., 0., 0., 1., 0., 0., 0., 0., 0., 0.]),\n",
       "  array([0., 0., 0., 1., 0., 0., 0., 0., 0., 0.]),\n",
       "  array([0., 0., 0., 0., 1., 0., 0., 0., 0., 0.]),\n",
       "  array([0., 0., 1., 0., 0., 0., 0., 0., 0., 0.]),\n",
       "  array([0., 1., 0., 0., 0., 0., 0., 0., 0., 0.]),\n",
       "  array([0., 1., 0., 0., 0., 0., 0., 0., 0., 0.]),\n",
       "  array([0., 0., 1., 0., 0., 0., 0., 0., 0., 0.]),\n",
       "  array([0., 0., 0., 1., 0., 0., 0., 0., 0., 0.]),\n",
       "  array([0., 0., 0., 1., 0., 0., 0., 0., 0., 0.]),\n",
       "  array([0., 0., 0., 1., 0., 0., 0., 0., 0., 0.]),\n",
       "  array([0., 0., 1., 0., 0., 0., 0., 0., 0., 0.]),\n",
       "  array([0., 0., 1., 0., 0., 0., 0., 0., 0., 0.]),\n",
       "  array([0., 0., 0., 1., 0., 0., 0., 0., 0., 0.]),\n",
       "  array([0., 0., 0., 0., 0., 1., 0., 0., 0., 0.]),\n",
       "  array([0., 0., 1., 0., 0., 0., 0., 0., 0., 0.]),\n",
       "  array([0., 0., 0., 0., 0., 0., 0., 0., 1., 0.]),\n",
       "  array([0., 1., 0., 0., 0., 0., 0., 0., 0., 0.]),\n",
       "  array([0., 0., 1., 0., 0., 0., 0., 0., 0., 0.]),\n",
       "  array([1., 0., 0., 0., 0., 0., 0., 0., 0., 0.]),\n",
       "  array([0., 0., 1., 0., 0., 0., 0., 0., 0., 0.]),\n",
       "  array([0., 0., 0., 1., 0., 0., 0., 0., 0., 0.]),\n",
       "  array([0., 0., 1., 0., 0., 0., 0., 0., 0., 0.]),\n",
       "  array([0., 0., 0., 1., 0., 0., 0., 0., 0., 0.]),\n",
       "  array([0., 0., 1., 0., 0., 0., 0., 0., 0., 0.]),\n",
       "  array([0., 0., 0., 1., 0., 0., 0., 0., 0., 0.]),\n",
       "  array([0., 0., 0., 1., 0., 0., 0., 0., 0., 0.]),\n",
       "  array([0., 0., 1., 0., 0., 0., 0., 0., 0., 0.]),\n",
       "  array([0., 0., 0., 1., 0., 0., 0., 0., 0., 0.]),\n",
       "  array([0., 0., 0., 1., 0., 0., 0., 0., 0., 0.]),\n",
       "  array([0., 0., 1., 0., 0., 0., 0., 0., 0., 0.]),\n",
       "  array([0., 0., 1., 0., 0., 0., 0., 0., 0., 0.]),\n",
       "  array([0., 0., 1., 0., 0., 0., 0., 0., 0., 0.]),\n",
       "  array([0., 1., 0., 0., 0., 0., 0., 0., 0., 0.]),\n",
       "  array([0., 0., 0., 1., 0., 0., 0., 0., 0., 0.]),\n",
       "  array([0., 0., 1., 0., 0., 0., 0., 0., 0., 0.]),\n",
       "  array([0., 0., 0., 0., 0., 0., 1., 0., 0., 0.]),\n",
       "  array([0., 0., 1., 0., 0., 0., 0., 0., 0., 0.]),\n",
       "  array([0., 0., 1., 0., 0., 0., 0., 0., 0., 0.]),\n",
       "  array([0., 0., 1., 0., 0., 0., 0., 0., 0., 0.]),\n",
       "  array([1., 0., 0., 0., 0., 0., 0., 0., 0., 0.]),\n",
       "  array([0., 0., 1., 0., 0., 0., 0., 0., 0., 0.]),\n",
       "  array([0., 1., 0., 0., 0., 0., 0., 0., 0., 0.]),\n",
       "  array([0., 0., 1., 0., 0., 0., 0., 0., 0., 0.]),\n",
       "  array([0., 0., 0., 0., 0., 1., 0., 0., 0., 0.]),\n",
       "  array([0., 0., 0., 1., 0., 0., 0., 0., 0., 0.]),\n",
       "  array([0., 0., 1., 0., 0., 0., 0., 0., 0., 0.]),\n",
       "  array([0., 0., 1., 0., 0., 0., 0., 0., 0., 0.]),\n",
       "  array([0., 0., 0., 1., 0., 0., 0., 0., 0., 0.]),\n",
       "  array([0., 0., 0., 1., 0., 0., 0., 0., 0., 0.]),\n",
       "  array([0., 0., 0., 1., 0., 0., 0., 0., 0., 0.]),\n",
       "  array([0., 0., 0., 1., 0., 0., 0., 0., 0., 0.]),\n",
       "  array([0., 0., 1., 0., 0., 0., 0., 0., 0., 0.]),\n",
       "  array([0., 0., 0., 1., 0., 0., 0., 0., 0., 0.]),\n",
       "  array([0., 1., 0., 0., 0., 0., 0., 0., 0., 0.]),\n",
       "  array([0., 0., 0., 1., 0., 0., 0., 0., 0., 0.]),\n",
       "  array([0., 0., 0., 1., 0., 0., 0., 0., 0., 0.]),\n",
       "  array([0., 0., 0., 1., 0., 0., 0., 0., 0., 0.]),\n",
       "  array([1., 0., 0., 0., 0., 0., 0., 0., 0., 0.]),\n",
       "  array([0., 0., 1., 0., 0., 0., 0., 0., 0., 0.]),\n",
       "  array([0., 1., 0., 0., 0., 0., 0., 0., 0., 0.]),\n",
       "  array([0., 0., 1., 0., 0., 0., 0., 0., 0., 0.]),\n",
       "  array([0., 1., 0., 0., 0., 0., 0., 0., 0., 0.]),\n",
       "  array([0., 0., 0., 1., 0., 0., 0., 0., 0., 0.]),\n",
       "  array([0., 1., 0., 0., 0., 0., 0., 0., 0., 0.]),\n",
       "  array([0., 0., 1., 0., 0., 0., 0., 0., 0., 0.]),\n",
       "  array([1., 0., 0., 0., 0., 0., 0., 0., 0., 0.]),\n",
       "  array([0., 0., 1., 0., 0., 0., 0., 0., 0., 0.]),\n",
       "  array([0., 1., 0., 0., 0., 0., 0., 0., 0., 0.]),\n",
       "  array([0., 0., 0., 1., 0., 0., 0., 0., 0., 0.]),\n",
       "  array([0., 0., 0., 1., 0., 0., 0., 0., 0., 0.]),\n",
       "  array([0., 0., 0., 0., 0., 1., 0., 0., 0., 0.]),\n",
       "  array([0., 1., 0., 0., 0., 0., 0., 0., 0., 0.]),\n",
       "  array([0., 0., 0., 0., 1., 0., 0., 0., 0., 0.]),\n",
       "  array([0., 0., 0., 0., 1., 0., 0., 0., 0., 0.]),\n",
       "  array([0., 0., 1., 0., 0., 0., 0., 0., 0., 0.]),\n",
       "  array([0., 0., 0., 0., 1., 0., 0., 0., 0., 0.]),\n",
       "  array([0., 0., 0., 1., 0., 0., 0., 0., 0., 0.]),\n",
       "  array([0., 0., 1., 0., 0., 0., 0., 0., 0., 0.]),\n",
       "  array([0., 1., 0., 0., 0., 0., 0., 0., 0., 0.]),\n",
       "  array([0., 0., 0., 1., 0., 0., 0., 0., 0., 0.]),\n",
       "  array([0., 0., 0., 0., 1., 0., 0., 0., 0., 0.]),\n",
       "  array([0., 0., 0., 1., 0., 0., 0., 0., 0., 0.]),\n",
       "  array([0., 0., 1., 0., 0., 0., 0., 0., 0., 0.]),\n",
       "  array([0., 0., 0., 1., 0., 0., 0., 0., 0., 0.]),\n",
       "  array([0., 0., 0., 0., 1., 0., 0., 0., 0., 0.]),\n",
       "  array([0., 0., 1., 0., 0., 0., 0., 0., 0., 0.]),\n",
       "  array([0., 0., 1., 0., 0., 0., 0., 0., 0., 0.]),\n",
       "  array([0., 0., 1., 0., 0., 0., 0., 0., 0., 0.]),\n",
       "  array([0., 0., 1., 0., 0., 0., 0., 0., 0., 0.]),\n",
       "  array([0., 0., 1., 0., 0., 0., 0., 0., 0., 0.]),\n",
       "  array([0., 0., 0., 1., 0., 0., 0., 0., 0., 0.]),\n",
       "  array([0., 0., 1., 0., 0., 0., 0., 0., 0., 0.]),\n",
       "  array([0., 1., 0., 0., 0., 0., 0., 0., 0., 0.]),\n",
       "  array([0., 0., 0., 1., 0., 0., 0., 0., 0., 0.]),\n",
       "  array([0., 0., 1., 0., 0., 0., 0., 0., 0., 0.]),\n",
       "  array([0., 0., 0., 1., 0., 0., 0., 0., 0., 0.]),\n",
       "  array([0., 0., 0., 1., 0., 0., 0., 0., 0., 0.]),\n",
       "  array([0., 0., 1., 0., 0., 0., 0., 0., 0., 0.]),\n",
       "  array([0., 0., 0., 0., 0., 1., 0., 0., 0., 0.]),\n",
       "  array([0., 0., 1., 0., 0., 0., 0., 0., 0., 0.]),\n",
       "  array([0., 0., 0., 1., 0., 0., 0., 0., 0., 0.]),\n",
       "  array([0., 0., 1., 0., 0., 0., 0., 0., 0., 0.]),\n",
       "  array([0., 0., 1., 0., 0., 0., 0., 0., 0., 0.]),\n",
       "  array([0., 0., 0., 1., 0., 0., 0., 0., 0., 0.]),\n",
       "  array([0., 0., 1., 0., 0., 0., 0., 0., 0., 0.]),\n",
       "  array([0., 0., 0., 1., 0., 0., 0., 0., 0., 0.]),\n",
       "  array([0., 1., 0., 0., 0., 0., 0., 0., 0., 0.]),\n",
       "  array([0., 1., 0., 0., 0., 0., 0., 0., 0., 0.]),\n",
       "  array([0., 0., 0., 1., 0., 0., 0., 0., 0., 0.]),\n",
       "  array([0., 0., 0., 1., 0., 0., 0., 0., 0., 0.]),\n",
       "  array([0., 1., 0., 0., 0., 0., 0., 0., 0., 0.]),\n",
       "  array([0., 0., 1., 0., 0., 0., 0., 0., 0., 0.]),\n",
       "  array([0., 0., 0., 0., 1., 0., 0., 0., 0., 0.]),\n",
       "  array([0., 0., 0., 0., 1., 0., 0., 0., 0., 0.]),\n",
       "  array([0., 0., 0., 1., 0., 0., 0., 0., 0., 0.]),\n",
       "  array([0., 0., 1., 0., 0., 0., 0., 0., 0., 0.]),\n",
       "  array([0., 0., 0., 1., 0., 0., 0., 0., 0., 0.]),\n",
       "  array([0., 1., 0., 0., 0., 0., 0., 0., 0., 0.]),\n",
       "  array([0., 0., 0., 0., 1., 0., 0., 0., 0., 0.]),\n",
       "  array([0., 0., 0., 1., 0., 0., 0., 0., 0., 0.]),\n",
       "  array([0., 0., 0., 1., 0., 0., 0., 0., 0., 0.]),\n",
       "  array([0., 0., 1., 0., 0., 0., 0., 0., 0., 0.]),\n",
       "  array([0., 0., 0., 0., 1., 0., 0., 0., 0., 0.]),\n",
       "  array([0., 0., 0., 0., 0., 0., 1., 0., 0., 0.]),\n",
       "  array([1., 0., 0., 0., 0., 0., 0., 0., 0., 0.]),\n",
       "  array([0., 0., 0., 1., 0., 0., 0., 0., 0., 0.]),\n",
       "  array([0., 0., 0., 1., 0., 0., 0., 0., 0., 0.]),\n",
       "  array([0., 0., 1., 0., 0., 0., 0., 0., 0., 0.]),\n",
       "  array([0., 0., 0., 1., 0., 0., 0., 0., 0., 0.]),\n",
       "  array([0., 0., 1., 0., 0., 0., 0., 0., 0., 0.]),\n",
       "  array([0., 1., 0., 0., 0., 0., 0., 0., 0., 0.]),\n",
       "  array([1., 0., 0., 0., 0., 0., 0., 0., 0., 0.]),\n",
       "  array([0., 0., 1., 0., 0., 0., 0., 0., 0., 0.]),\n",
       "  array([0., 0., 0., 0., 0., 1., 0., 0., 0., 0.]),\n",
       "  array([0., 0., 1., 0., 0., 0., 0., 0., 0., 0.]),\n",
       "  array([0., 0., 1., 0., 0., 0., 0., 0., 0., 0.]),\n",
       "  array([0., 0., 0., 1., 0., 0., 0., 0., 0., 0.]),\n",
       "  array([0., 0., 0., 0., 0., 0., 0., 1., 0., 0.]),\n",
       "  array([0., 0., 0., 0., 1., 0., 0., 0., 0., 0.]),\n",
       "  array([0., 1., 0., 0., 0., 0., 0., 0., 0., 0.]),\n",
       "  array([0., 0., 0., 0., 1., 0., 0., 0., 0., 0.]),\n",
       "  array([0., 0., 0., 0., 0., 0., 0., 1., 0., 0.]),\n",
       "  array([0., 0., 0., 1., 0., 0., 0., 0., 0., 0.]),\n",
       "  array([0., 0., 0., 1., 0., 0., 0., 0., 0., 0.]),\n",
       "  array([0., 0., 0., 1., 0., 0., 0., 0., 0., 0.]),\n",
       "  array([0., 0., 0., 1., 0., 0., 0., 0., 0., 0.]),\n",
       "  array([0., 0., 0., 1., 0., 0., 0., 0., 0., 0.]),\n",
       "  array([0., 0., 0., 1., 0., 0., 0., 0., 0., 0.]),\n",
       "  array([0., 0., 0., 1., 0., 0., 0., 0., 0., 0.]),\n",
       "  array([0., 0., 0., 1., 0., 0., 0., 0., 0., 0.]),\n",
       "  array([0., 0., 0., 0., 0., 1., 0., 0., 0., 0.]),\n",
       "  array([0., 0., 1., 0., 0., 0., 0., 0., 0., 0.]),\n",
       "  array([0., 1., 0., 0., 0., 0., 0., 0., 0., 0.]),\n",
       "  array([0., 0., 0., 1., 0., 0., 0., 0., 0., 0.]),\n",
       "  array([0., 0., 0., 1., 0., 0., 0., 0., 0., 0.]),\n",
       "  array([0., 1., 0., 0., 0., 0., 0., 0., 0., 0.]),\n",
       "  array([0., 0., 1., 0., 0., 0., 0., 0., 0., 0.]),\n",
       "  array([0., 0., 0., 0., 0., 1., 0., 0., 0., 0.]),\n",
       "  array([0., 0., 1., 0., 0., 0., 0., 0., 0., 0.]),\n",
       "  array([0., 0., 0., 0., 0., 0., 1., 0., 0., 0.]),\n",
       "  array([0., 0., 0., 0., 1., 0., 0., 0., 0., 0.]),\n",
       "  array([0., 1., 0., 0., 0., 0., 0., 0., 0., 0.]),\n",
       "  array([0., 0., 1., 0., 0., 0., 0., 0., 0., 0.]),\n",
       "  array([0., 0., 0., 1., 0., 0., 0., 0., 0., 0.]),\n",
       "  array([0., 1., 0., 0., 0., 0., 0., 0., 0., 0.]),\n",
       "  array([1., 0., 0., 0., 0., 0., 0., 0., 0., 0.]),\n",
       "  array([0., 0., 0., 1., 0., 0., 0., 0., 0., 0.]),\n",
       "  array([0., 0., 1., 0., 0., 0., 0., 0., 0., 0.]),\n",
       "  array([0., 1., 0., 0., 0., 0., 0., 0., 0., 0.]),\n",
       "  array([1., 0., 0., 0., 0., 0., 0., 0., 0., 0.]),\n",
       "  array([0., 0., 0., 0., 1., 0., 0., 0., 0., 0.]),\n",
       "  array([0., 0., 1., 0., 0., 0., 0., 0., 0., 0.]),\n",
       "  array([0., 0., 1., 0., 0., 0., 0., 0., 0., 0.]),\n",
       "  array([1., 0., 0., 0., 0., 0., 0., 0., 0., 0.]),\n",
       "  array([0., 0., 0., 0., 0., 1., 0., 0., 0., 0.]),\n",
       "  array([0., 0., 1., 0., 0., 0., 0., 0., 0., 0.]),\n",
       "  array([0., 0., 1., 0., 0., 0., 0., 0., 0., 0.]),\n",
       "  array([0., 0., 1., 0., 0., 0., 0., 0., 0., 0.]),\n",
       "  array([0., 0., 1., 0., 0., 0., 0., 0., 0., 0.]),\n",
       "  array([0., 0., 1., 0., 0., 0., 0., 0., 0., 0.]),\n",
       "  array([0., 0., 0., 1., 0., 0., 0., 0., 0., 0.]),\n",
       "  array([0., 0., 1., 0., 0., 0., 0., 0., 0., 0.]),\n",
       "  array([0., 1., 0., 0., 0., 0., 0., 0., 0., 0.]),\n",
       "  array([1., 0., 0., 0., 0., 0., 0., 0., 0., 0.]),\n",
       "  array([1., 0., 0., 0., 0., 0., 0., 0., 0., 0.]),\n",
       "  array([0., 0., 0., 1., 0., 0., 0., 0., 0., 0.]),\n",
       "  array([0., 0., 0., 0., 0., 1., 0., 0., 0., 0.]),\n",
       "  array([0., 0., 1., 0., 0., 0., 0., 0., 0., 0.]),\n",
       "  array([0., 0., 0., 1., 0., 0., 0., 0., 0., 0.]),\n",
       "  array([0., 0., 0., 0., 0., 1., 0., 0., 0., 0.]),\n",
       "  array([0., 0., 0., 0., 0., 1., 0., 0., 0., 0.]),\n",
       "  array([0., 0., 0., 1., 0., 0., 0., 0., 0., 0.]),\n",
       "  array([0., 0., 0., 0., 0., 0., 1., 0., 0., 0.]),\n",
       "  array([0., 0., 0., 1., 0., 0., 0., 0., 0., 0.]),\n",
       "  array([0., 0., 1., 0., 0., 0., 0., 0., 0., 0.]),\n",
       "  array([0., 1., 0., 0., 0., 0., 0., 0., 0., 0.]),\n",
       "  array([0., 0., 0., 1., 0., 0., 0., 0., 0., 0.]),\n",
       "  array([0., 0., 0., 1., 0., 0., 0., 0., 0., 0.]),\n",
       "  array([0., 0., 1., 0., 0., 0., 0., 0., 0., 0.]),\n",
       "  array([0., 0., 0., 0., 1., 0., 0., 0., 0., 0.]),\n",
       "  array([0., 0., 0., 1., 0., 0., 0., 0., 0., 0.]),\n",
       "  array([0., 0., 1., 0., 0., 0., 0., 0., 0., 0.]),\n",
       "  array([0., 0., 0., 1., 0., 0., 0., 0., 0., 0.]),\n",
       "  array([0., 0., 0., 1., 0., 0., 0., 0., 0., 0.]),\n",
       "  array([1., 0., 0., 0., 0., 0., 0., 0., 0., 0.]),\n",
       "  array([0., 0., 0., 1., 0., 0., 0., 0., 0., 0.]),\n",
       "  array([0., 1., 0., 0., 0., 0., 0., 0., 0., 0.]),\n",
       "  array([0., 0., 0., 1., 0., 0., 0., 0., 0., 0.]),\n",
       "  array([0., 0., 1., 0., 0., 0., 0., 0., 0., 0.]),\n",
       "  array([0., 0., 1., 0., 0., 0., 0., 0., 0., 0.]),\n",
       "  array([0., 0., 0., 1., 0., 0., 0., 0., 0., 0.]),\n",
       "  array([0., 0., 0., 0., 1., 0., 0., 0., 0., 0.]),\n",
       "  array([0., 0., 1., 0., 0., 0., 0., 0., 0., 0.]),\n",
       "  array([0., 0., 1., 0., 0., 0., 0., 0., 0., 0.]),\n",
       "  array([0., 0., 0., 0., 1., 0., 0., 0., 0., 0.]),\n",
       "  array([0., 0., 1., 0., 0., 0., 0., 0., 0., 0.]),\n",
       "  array([0., 0., 1., 0., 0., 0., 0., 0., 0., 0.]),\n",
       "  array([0., 0., 0., 0., 1., 0., 0., 0., 0., 0.])],\n",
       " array([-11478.39833131,  -7685.31335839,  -3892.22838546,    -99.14341253,\n",
       "          3693.94156039,   7487.02653332,  11280.11150625,  15073.19647917,\n",
       "         18866.2814521 ,  22659.36642503,  26452.45139795]),\n",
       " <a list of 268 Lists of Patches objects>)"
      ]
     },
     "execution_count": 23,
     "metadata": {},
     "output_type": "execute_result"
    },
    {
     "data": {
      "image/png": "[encoded data removed]",
      "text/plain": [
       "<Figure size 432x288 with 1 Axes>"
      ]
     },
     "metadata": {
      "needs_background": "light"
     },
     "output_type": "display_data"
    }
   ],
   "source": [
    "plt.hist(y_test - y_pred)"
   ]
  },
  {
   "cell_type": "markdown",
   "metadata": {},
   "source": [
    "# 6. scatterplot of predicted values and residuals to check assumption of homoscedasticity"
   ]
  },
  {
   "cell_type": "code",
   "execution_count": 24,
   "metadata": {},
   "outputs": [
    {
     "name": "stdout",
     "output_type": "stream",
     "text": [
      "Sample predictions are:\n",
      " [14743.45434165  6480.2597003   7479.63053483  3089.80838161\n",
      "  3416.48384078]\n"
     ]
    },
    {
     "data": {
      "image/png": "[encoded data removed]",
      "text/plain": [
       "<Figure size 432x432 with 1 Axes>"
      ]
     },
     "metadata": {
      "needs_background": "light"
     },
     "output_type": "display_data"
    }
   ],
   "source": [
    "#prediction values using testing set\n",
    "y_pred = reg_model.predict(X_test)\n",
    "\n",
    "#printing sample of predictions\n",
    "print('Sample predictions are:\\n', y_pred[:5].flatten())\n",
    "\n",
    "y_pred_a = pd.DataFrame(y_pred)\n",
    "y_test_a = y_test.reset_index(drop=True, inplace=False)\n",
    "pred_act_df = pd.concat([y_test_a,y_pred_a], axis=1).sort_values(1,axis=1).reset_index(drop=True)\n",
    "\n",
    "#output samples of our predicted values\n",
    "plt.figure(figsize=(6, 6))\n",
    "maxlimit = pred_act_df['charges'].max()\n",
    "plt.xlim(-1, maxlimit)\n",
    "plt.ylim(-1, maxlimit)\n",
    "plt.scatter(pred_act_df[0], pred_act_df['charges'], s=10)\n",
    "plt.xlabel('Predicted charges')\n",
    "plt.ylabel('Actual charges')\n",
    "plt.plot([-1,maxlimit], [-1,maxlimit], ls=\"--\", c=\".3\")\n",
    "plt.title('Actual vs Predicted charges')\n",
    "plt.show()"
   ]
  },
  {
   "cell_type": "markdown",
   "metadata": {},
   "source": [
    "In the graph above, the closer the points are to the diagonal line the better the accuracy of our predictions (it would mean our predicted values matches the actual values)."
   ]
  },
  {
   "cell_type": "markdown",
   "metadata": {},
   "source": [
    "A residual (error) term is calculated as $e_i=y_i−y^i$, the difference between an actual and a predicted value of $y$."
   ]
  },
  {
   "cell_type": "code",
   "execution_count": 25,
   "metadata": {},
   "outputs": [
    {
     "data": {
      "text/plain": [
       "Text(0.5, 1.0, 'residual vs Predicted charges')"
      ]
     },
     "execution_count": 25,
     "metadata": {},
     "output_type": "execute_result"
    },
    {
     "data": {
      "image/png": "[encoded data removed]",
      "text/plain": [
       "<Figure size 432x288 with 1 Axes>"
      ]
     },
     "metadata": {
      "needs_background": "light"
     },
     "output_type": "display_data"
    }
   ],
   "source": [
    "residuals = y_test - y_pred\n",
    "plt.scatter(y_pred,residuals)\n",
    "plt.xlabel('predicted values')\n",
    "plt.ylabel('residuals')\n",
    "plt.title('residual vs Predicted charges')"
   ]
  },
  {
   "cell_type": "markdown",
   "metadata": {},
   "source": [
    "From the scatterplot, we can see that the data violates the assumption of homoscedasticity, i.e. heteroscedasticity is present in the data meaing, the circumstance in which the variability of a variable is unequal across the range of values of a second variable that predicts it. In this case we can transform the variables to improve the model, or use a robust regression method that accounts for the heteroscedasticity."
   ]
  },
  {
   "cell_type": "code",
   "execution_count": 26,
   "metadata": {},
   "outputs": [
    {
     "data": {
      "text/plain": [
       "<matplotlib.collections.PathCollection at 0x2d3d77eea20>"
      ]
     },
     "execution_count": 26,
     "metadata": {},
     "output_type": "execute_result"
    },
    {
     "data": {
      "image/png": "[encoded data removed]",
      "text/plain": [
       "<Figure size 432x288 with 1 Axes>"
      ]
     },
     "metadata": {
      "needs_background": "light"
     },
     "output_type": "display_data"
    }
   ],
   "source": [
    "plt.scatter(reg_model.predict(X_train), y_train - reg_model.predict(X_train))"
   ]
  },
  {
   "cell_type": "markdown",
   "metadata": {},
   "source": [
    "# 7. Interpretation of the coefficients of the linear regression"
   ]
  },
  {
   "cell_type": "markdown",
   "metadata": {},
   "source": [
    "A linear regression model with four predictor variables can be expressed with the following equation:\n",
    "\n",
    "$ y= \\theta_0 + \\theta_1 x_1 +\\theta_2 x_2 + \\theta_3 x_3 + \\theta_4 x_4 + \\epsilon$\n",
    "\n",
    "The variables in the model are :\n",
    "\n",
    "* y : the response variable (charges)\n",
    "* $x_1$ : the first predictor variable (age)\n",
    "* $x_2$ : the second predictor variable (children) \n",
    "* $x_3$ : the third predictor variable (smoker_norm)\n",
    "* $x_4$ : the fourth predictor variable (obese) and\n",
    "* $\\epsilon$ : the residual error, which is an unmeasured variable.\n",
    "\n",
    "The parameters in the model are:\n",
    "\n",
    "* $\\theta_0$ :  the Y-intercept,\n",
    "* $\\theta_1,...,\\theta_4$ : first, second, third and fourth regression coefficients respectively.\n",
    "\n",
    "In the above example, age, children and charges are continuous variables. smoker_norm and obese are categorical variables.\n",
    "\n",
    "This project is about the model of the health insurance cost (y) based on age ($x_1$), children ($x_2$), smoker_norm ($x_3$) and obese ($x_4$).\n",
    "\n",
    "Here $smoker\\_norm = 1$ if the person is smoking else it is 0 and if $bmi > 30 $ then $obese =1$  else it is 0.\n",
    "With these the regression equation was estimated as follows : \n",
    "\n",
    "$charges = -4330.261 + (258.225 * age) + (447.999 * children) + (23606.994 * smoker\\_norm) + (4096.675* obese )$"
   ]
  },
  {
   "cell_type": "markdown",
   "metadata": {},
   "source": [
    "### Interpreting the Intercept\n",
    "\n",
    "$\\theta_0$, the y-intercept, can be interpreted as the value we would predict for y, if $x_1=x_2=x_3=x_4=0$. In our case, it is easy to see that $x_2$ (Number of children covered by health insurance), $x_3$ (smoker_norm) and $x_4$ (obese) can become 0 but $x_1$ (age) can not become 0. Therefore, our intercept has no real interpretation."
   ]
  },
  {
   "cell_type": "markdown",
   "metadata": {},
   "source": [
    "### Interpreting Coefficients of Continuous Predictor Variables\n",
    "\n",
    "Since $x_1$ is continuous variables, $\\theta_1$ represents the difference in the predicted value of $y$ for each one-unit difference in $x_1$, if $x_2,x_3, x_4$ remain constant.\n",
    "\n",
    "This means that if $x_1$ differed by one unit (and others did not differ) $y$ will differ by $\\theta_1$ units, on average. Similarly for $x_2$."
   ]
  },
  {
   "cell_type": "markdown",
   "metadata": {},
   "source": [
    "### Interpreting Coefficients of Categorical Predictor Variables\n",
    "\n",
    "Similarly, $\\theta_3$ is interpreted as the difference in the predicted value in $y$ for each one-unit difference in $x_3$ if other x's remain constant. However, since $x_3$ is a categorical variable coded as $0$ or $1$, a one unit difference represents switching from one category to the other.\n",
    "\n",
    "$\\theta_3$ is then the average difference in $y$ between the category for which $x_3 = 0$ (the reference group) and the category for which $x_3=1$ (the comparison group). The same theory works for $x_4.$"
   ]
  },
  {
   "cell_type": "code",
   "execution_count": 27,
   "metadata": {},
   "outputs": [
    {
     "data": {
      "text/plain": [
       "4312.487000000001"
      ]
     },
     "execution_count": 27,
     "metadata": {},
     "output_type": "execute_result"
    }
   ],
   "source": [
    "def cost(age,children,smoker_norm,obese):\n",
    "  return -4330.261 + (258.225 * age) + (447.999 * children) + (23606.994 * smoker_norm) + (4096.675* obese )\n",
    "cost(30,2,0,0)"
   ]
  },
  {
   "cell_type": "markdown",
   "metadata": {},
   "source": [
    "Linear regression is simple, with statsmodels. We are able to use R style regression formula."
   ]
  },
  {
   "cell_type": "code",
   "execution_count": 28,
   "metadata": {},
   "outputs": [
    {
     "data": {
      "text/html": [
       "<table class=\"simpletable\">\n",
       "<caption>OLS Regression Results</caption>\n",
       "<tr>\n",
       "  <th>Dep. Variable:</th>         <td>charges</td>     <th>  R-squared:         </th> <td>   0.752</td> \n",
       "</tr>\n",
       "<tr>\n",
       "  <th>Model:</th>                   <td>OLS</td>       <th>  Adj. R-squared:    </th> <td>   0.751</td> \n",
       "</tr>\n",
       "<tr>\n",
       "  <th>Method:</th>             <td>Least Squares</td>  <th>  F-statistic:       </th> <td>   1345.</td> \n",
       "</tr>\n",
       "<tr>\n",
       "  <th>Date:</th>             <td>Sun, 17 Nov 2019</td> <th>  Prob (F-statistic):</th>  <td>  0.00</td>  \n",
       "</tr>\n",
       "<tr>\n",
       "  <th>Time:</th>                 <td>19:21:55</td>     <th>  Log-Likelihood:    </th> <td> -13546.</td> \n",
       "</tr>\n",
       "<tr>\n",
       "  <th>No. Observations:</th>      <td>  1338</td>      <th>  AIC:               </th> <td>2.710e+04</td>\n",
       "</tr>\n",
       "<tr>\n",
       "  <th>Df Residuals:</th>          <td>  1334</td>      <th>  BIC:               </th> <td>2.712e+04</td>\n",
       "</tr>\n",
       "<tr>\n",
       "  <th>Df Model:</th>              <td>     3</td>      <th>                     </th>     <td> </td>    \n",
       "</tr>\n",
       "<tr>\n",
       "  <th>Covariance Type:</th>      <td>nonrobust</td>    <th>                     </th>     <td> </td>    \n",
       "</tr>\n",
       "</table>\n",
       "<table class=\"simpletable\">\n",
       "<tr>\n",
       "       <td></td>          <th>coef</th>     <th>std err</th>      <th>t</th>      <th>P>|t|</th>  <th>[0.025</th>    <th>0.975]</th>  \n",
       "</tr>\n",
       "<tr>\n",
       "  <th>Intercept</th>   <td>-4108.1030</td> <td>  516.913</td> <td>   -7.947</td> <td> 0.000</td> <td>-5122.154</td> <td>-3094.052</td>\n",
       "</tr>\n",
       "<tr>\n",
       "  <th>age</th>         <td>  261.8244</td> <td>   11.810</td> <td>   22.170</td> <td> 0.000</td> <td>  238.656</td> <td>  284.992</td>\n",
       "</tr>\n",
       "<tr>\n",
       "  <th>smoker_norm</th> <td> 2.385e+04</td> <td>  409.478</td> <td>   58.248</td> <td> 0.000</td> <td>  2.3e+04</td> <td> 2.47e+04</td>\n",
       "</tr>\n",
       "<tr>\n",
       "  <th>obese</th>       <td> 4229.1432</td> <td>  332.112</td> <td>   12.734</td> <td> 0.000</td> <td> 3577.624</td> <td> 4880.662</td>\n",
       "</tr>\n",
       "</table>\n",
       "<table class=\"simpletable\">\n",
       "<tr>\n",
       "  <th>Omnibus:</th>       <td>327.734</td> <th>  Durbin-Watson:     </th> <td>   2.082</td> \n",
       "</tr>\n",
       "<tr>\n",
       "  <th>Prob(Omnibus):</th> <td> 0.000</td>  <th>  Jarque-Bera (JB):  </th> <td> 823.304</td> \n",
       "</tr>\n",
       "<tr>\n",
       "  <th>Skew:</th>          <td> 1.298</td>  <th>  Prob(JB):          </th> <td>1.67e-179</td>\n",
       "</tr>\n",
       "<tr>\n",
       "  <th>Kurtosis:</th>      <td> 5.833</td>  <th>  Cond. No.          </th> <td>    136.</td> \n",
       "</tr>\n",
       "</table><br/><br/>Warnings:<br/>[1] Standard Errors assume that the covariance matrix of the errors is correctly specified."
      ],
      "text/plain": [
       "<class 'statsmodels.iolib.summary.Summary'>\n",
       "\"\"\"\n",
       "                            OLS Regression Results                            \n",
       "==============================================================================\n",
       "Dep. Variable:                charges   R-squared:                       0.752\n",
       "Model:                            OLS   Adj. R-squared:                  0.751\n",
       "Method:                 Least Squares   F-statistic:                     1345.\n",
       "Date:                Sun, 17 Nov 2019   Prob (F-statistic):               0.00\n",
       "Time:                        19:21:55   Log-Likelihood:                -13546.\n",
       "No. Observations:                1338   AIC:                         2.710e+04\n",
       "Df Residuals:                    1334   BIC:                         2.712e+04\n",
       "Df Model:                           3                                         \n",
       "Covariance Type:            nonrobust                                         \n",
       "===============================================================================\n",
       "                  coef    std err          t      P>|t|      [0.025      0.975]\n",
       "-------------------------------------------------------------------------------\n",
       "Intercept   -4108.1030    516.913     -7.947      0.000   -5122.154   -3094.052\n",
       "age           261.8244     11.810     22.170      0.000     238.656     284.992\n",
       "smoker_norm  2.385e+04    409.478     58.248      0.000     2.3e+04    2.47e+04\n",
       "obese        4229.1432    332.112     12.734      0.000    3577.624    4880.662\n",
       "==============================================================================\n",
       "Omnibus:                      327.734   Durbin-Watson:                   2.082\n",
       "Prob(Omnibus):                  0.000   Jarque-Bera (JB):              823.304\n",
       "Skew:                           1.298   Prob(JB):                    1.67e-179\n",
       "Kurtosis:                       5.833   Cond. No.                         136.\n",
       "==============================================================================\n",
       "\n",
       "Warnings:\n",
       "[1] Standard Errors assume that the covariance matrix of the errors is correctly specified.\n",
       "\"\"\""
      ]
     },
     "execution_count": 28,
     "metadata": {},
     "output_type": "execute_result"
    }
   ],
   "source": [
    "import statsmodels.formula.api as smf\n",
    "reg = smf.ols('charges ~ age + smoker_norm + obese', data=new_insurance).fit()\n",
    "reg.summary()"
   ]
  },
  {
   "cell_type": "markdown",
   "metadata": {},
   "source": [
    "**Note: p-value below 0.5 means that the cariavle is significance. Therefore, the coefficient is most probably different from 0.**"
   ]
  },
  {
   "cell_type": "markdown",
   "metadata": {},
   "source": [
    "# Summary\n",
    "\n",
    "Multiple regression analysis was used to test if age, number of children, smoking norm and obese significantly predicted the cost of insurance premiums. The predicted insurance premium charge is equal to:\n",
    "$charges = -4330.261 + (258.225 * age) + (447.999 * children) + (23606.994 * smoker\\_norm) + (4096.675* obese )$. \n",
    "\n",
    "All of the independent variables used in the model were significant predictors of insurance premium charge."
   ]
  },
  {
   "cell_type": "code",
   "execution_count": null,
   "metadata": {},
   "outputs": [],
   "source": []
  }
 ],
 "metadata": {
  "kernelspec": {
   "display_name": "Python 3",
   "language": "python",
   "name": "python3"
  },
  "language_info": {
   "codemirror_mode": {
    "name": "ipython",
    "version": 3
   },
   "file_extension": ".py",
   "mimetype": "text/x-python",
   "name": "python",
   "nbconvert_exporter": "python",
   "pygments_lexer": "ipython3",
   "version": "3.7.3"
  }
 },
 "nbformat": 4,
 "nbformat_minor": 2
}
